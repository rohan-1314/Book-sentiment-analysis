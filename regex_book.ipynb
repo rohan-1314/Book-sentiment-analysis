{
 "cells": [
  {
   "cell_type": "markdown",
   "id": "172d48fc-f720-4d15-adee-30aab81614fa",
   "metadata": {},
   "source": [
    "# Load The Book"
   ]
  },
  {
   "cell_type": "code",
   "execution_count": 32,
   "id": "87f690e1-6c1e-47a7-8745-582113c0f3c2",
   "metadata": {},
   "outputs": [],
   "source": [
    "with open(\"miracle_in_the_andes.txt\",\"r\", encoding='utf-8') as file:\n",
    "    book = file.read()"
   ]
  },
  {
   "cell_type": "code",
   "execution_count": 33,
   "id": "cf2561b9-c280-492f-89bb-9c06be2d0d6c",
   "metadata": {},
   "outputs": [
    {
     "data": {
      "text/plain": [
       "str"
      ]
     },
     "execution_count": 33,
     "metadata": {},
     "output_type": "execute_result"
    }
   ],
   "source": [
    "type(book)"
   ]
  },
  {
   "cell_type": "markdown",
   "id": "58ce35ca-a1fc-4072-be88-9913ef110758",
   "metadata": {},
   "source": [
    "# Get Chapters"
   ]
  },
  {
   "cell_type": "markdown",
   "id": "077b3584-2157-48ae-aeaf-3cf7e6c7ce57",
   "metadata": {},
   "source": [
    "### With string"
   ]
  },
  {
   "cell_type": "code",
   "execution_count": 31,
   "id": "38d29aaf-dc54-4e58-b9db-855b34fe45e6",
   "metadata": {},
   "outputs": [
    {
     "data": {
      "text/plain": [
       "11"
      ]
     },
     "execution_count": 31,
     "metadata": {},
     "output_type": "execute_result"
    }
   ],
   "source": [
    "book.count('Chapter') # the book only has 10 chapters so not efficient\n"
   ]
  },
  {
   "cell_type": "markdown",
   "id": "72d818f8-fb82-41d3-b7ac-6300c792718a",
   "metadata": {},
   "source": [
    "### with regex"
   ]
  },
  {
   "cell_type": "code",
   "execution_count": 30,
   "id": "1a176c26-7809-49fa-96d4-a24fd14f3718",
   "metadata": {},
   "outputs": [
    {
     "data": {
      "text/plain": [
       "10"
      ]
     },
     "execution_count": 30,
     "metadata": {},
     "output_type": "execute_result"
    }
   ],
   "source": [
    "import re\n",
    "pattern = re.compile('Chapter [0-9]+')\n",
    "findings = re.findall(pattern,book)\n",
    "len(findings)"
   ]
  },
  {
   "cell_type": "markdown",
   "id": "745a4813-3fb8-4ded-822f-39aff6aec014",
   "metadata": {},
   "source": [
    "# Which are the sentences where love was used?"
   ]
  },
  {
   "cell_type": "code",
   "execution_count": 29,
   "id": "0c1753e2-28bf-4687-9843-d3de598a344e",
   "metadata": {},
   "outputs": [
    {
     "data": {
      "text/plain": [
       "67"
      ]
     },
     "execution_count": 29,
     "metadata": {},
     "output_type": "execute_result"
    }
   ],
   "source": [
    "pattern = re.compile(\"[A-Z]{1}[^.]*[^a-zA-Z]+love[^a-zA-Z]+[^.]*.\")\n",
    "# ^. everything but . and * means 0 or more times\n",
    "#[^a-zA-Z] means everything but leeters so it will look for punctuations after love eg: love,\n",
    "#and + means 1 or more times\n",
    "#[A-Z]{1} means its to remove space and \n",
    "#it will start with Capital letter, it will only search and include one capital letter \n",
    "findings = re.findall(pattern,book)\n",
    "len(findings)"
   ]
  },
  {
   "cell_type": "markdown",
   "id": "9fd0e4c1-fe09-4dcd-ac2a-4825b0dbdca4",
   "metadata": {},
   "source": [
    "# What are the most used words?"
   ]
  },
  {
   "cell_type": "code",
   "execution_count": 8,
   "id": "e8ceae63-6908-4270-bf89-2ec03b301907",
   "metadata": {},
   "outputs": [
    {
     "data": {
      "text/plain": [
       "['chapter',\n",
       " 'before',\n",
       " 'it',\n",
       " 'was',\n",
       " 'friday',\n",
       " 'the',\n",
       " 'thirteenth',\n",
       " 'of',\n",
       " 'october',\n",
       " 'we']"
      ]
     },
     "execution_count": 8,
     "metadata": {},
     "output_type": "execute_result"
    }
   ],
   "source": [
    "pattern = re.compile('[a-zA-Z]+')\n",
    "findings= re.findall(pattern,book.lower())\n",
    "findings[:10]"
   ]
  },
  {
   "cell_type": "code",
   "execution_count": 9,
   "id": "fe7b729d-90b8-4625-b3de-54d2c09a2494",
   "metadata": {},
   "outputs": [],
   "source": [
    "d = {}\n",
    "for word in findings:\n",
    "    if word in d.keys():\n",
    "        d[word] = d[word] + 1\n",
    "    else:\n",
    "        d[word] = 1"
   ]
  },
  {
   "cell_type": "code",
   "execution_count": 10,
   "id": "caf2fe6f-eaa2-499b-b792-93d03c8bd9df",
   "metadata": {},
   "outputs": [
    {
     "data": {
      "text/plain": [
       "[(5346, 'the'),\n",
       " (2795, 'and'),\n",
       " (2729, 'i'),\n",
       " (2400, 'to'),\n",
       " (2060, 'of'),\n",
       " (1566, 'a'),\n",
       " (1430, 'was'),\n",
       " (1419, 'in'),\n",
       " (1226, 'we'),\n",
       " (1169, 'my')]"
      ]
     },
     "execution_count": 10,
     "metadata": {},
     "output_type": "execute_result"
    }
   ],
   "source": [
    "d_list = [(value,key) for (key,value) in d.items()]\n",
    "sorted(d_list ,reverse=True)[:10]"
   ]
  },
  {
   "cell_type": "markdown",
   "id": "295546d2-7938-4f5f-94ea-3a20a5caeeca",
   "metadata": {},
   "source": [
    "# Which are the paragraphs where love was used"
   ]
  },
  {
   "cell_type": "code",
   "execution_count": 20,
   "id": "abe62d43-ab2c-4c1b-8d2b-53ffaf22d7f9",
   "metadata": {},
   "outputs": [
    {
     "data": {
      "text/plain": [
       "60"
      ]
     },
     "execution_count": 20,
     "metadata": {},
     "output_type": "execute_result"
    }
   ],
   "source": [
    "pattern = re.compile(\"[^\\n]+love[^\\n]+.\")\n",
    "findings = re.findall(pattern,book)\n",
    "len(findings)"
   ]
  },
  {
   "cell_type": "markdown",
   "id": "7c541584-858d-41d7-9484-357282c933fe",
   "metadata": {},
   "source": [
    "# extract chapter titles"
   ]
  },
  {
   "cell_type": "code",
   "execution_count": 24,
   "id": "56f5b35e-6585-49cb-a9ee-94d9ca87e261",
   "metadata": {},
   "outputs": [
    {
     "data": {
      "text/plain": [
       "['Before ',\n",
       " 'Everything Precious',\n",
       " 'A Promise',\n",
       " 'Breathe Once More',\n",
       " 'Abandoned',\n",
       " 'Tomb',\n",
       " 'East',\n",
       " 'The Opposite of Death',\n",
       " 'I See a Man',\n",
       " 'After']"
      ]
     },
     "execution_count": 24,
     "metadata": {},
     "output_type": "execute_result"
    }
   ],
   "source": [
    "pattern = re.compile(\"([a-zA-Z ]+)\\n\\n\")\n",
    "findings = re.findall(pattern,book)\n",
    "findings"
   ]
  },
  {
   "cell_type": "markdown",
   "id": "270e5a1d-813f-46b8-a114-4d4f61ee213e",
   "metadata": {},
   "source": [
    "# Function that finds the occurence of any word"
   ]
  },
  {
   "cell_type": "code",
   "execution_count": 52,
   "id": "29a00d9e-9242-4016-b2b4-0b7a7cc5dfd0",
   "metadata": {},
   "outputs": [],
   "source": [
    "def find(w):\n",
    "    pattern = re.compile('[a-zA-Z]+')\n",
    "    findings = re.findall(pattern,book.lower())\n",
    "    d = {}\n",
    "    for word in findings:\n",
    "        if word in d.keys():\n",
    "            d[word] = d[word] + 1\n",
    "        else:\n",
    "            d[word] = 1\n",
    "    try:\n",
    "        return d[w]\n",
    "    except:\n",
    "        return f\" The book does not contain the word {w}\""
   ]
  },
  {
   "cell_type": "code",
   "execution_count": 53,
   "id": "1531d0ca-dc1b-42f0-bb30-2777ddf4cce5",
   "metadata": {},
   "outputs": [
    {
     "data": {
      "text/plain": [
       "83"
      ]
     },
     "execution_count": 53,
     "metadata": {},
     "output_type": "execute_result"
    }
   ],
   "source": [
    "find('love')"
   ]
  },
  {
   "cell_type": "code",
   "execution_count": 54,
   "id": "df56c31f-2521-4145-a4fc-7fa2d91e6607",
   "metadata": {},
   "outputs": [
    {
     "data": {
      "text/plain": [
       "' The book does not contain the word hate'"
      ]
     },
     "execution_count": 54,
     "metadata": {},
     "output_type": "execute_result"
    }
   ],
   "source": [
    "find('hate')"
   ]
  },
  {
   "cell_type": "code",
   "execution_count": null,
   "id": "3c1929cd-e622-4fb6-a73a-fb1cc5011f88",
   "metadata": {},
   "outputs": [],
   "source": []
  }
 ],
 "metadata": {
  "kernelspec": {
   "display_name": "Python 3 (ipykernel)",
   "language": "python",
   "name": "python3"
  },
  "language_info": {
   "codemirror_mode": {
    "name": "ipython",
    "version": 3
   },
   "file_extension": ".py",
   "mimetype": "text/x-python",
   "name": "python",
   "nbconvert_exporter": "python",
   "pygments_lexer": "ipython3",
   "version": "3.9.13"
  }
 },
 "nbformat": 4,
 "nbformat_minor": 5
}
